{
 "cells": [
  {
   "cell_type": "code",
   "execution_count": 22,
   "id": "8874355b",
   "metadata": {},
   "outputs": [],
   "source": [
    "import pandas as pd\n",
    "from sklearn.preprocessing import StandardScaler"
   ]
  },
  {
   "cell_type": "code",
   "execution_count": 23,
   "id": "175df4e3",
   "metadata": {},
   "outputs": [],
   "source": [
    "# 데이터 불러오기\n",
    "df = pd.read_csv(\"winequality-red.csv\")"
   ]
  },
  {
   "cell_type": "code",
   "execution_count": 24,
   "id": "44136a45",
   "metadata": {},
   "outputs": [],
   "source": [
    "# 스케일링 \n",
    "scaler_1 = ['fixed acidity', 'volatile acidity', 'citric acid', 'residual sugar', 'chlorides']"
   ]
  },
  {
   "cell_type": "code",
   "execution_count": 25,
   "id": "34d28fa6",
   "metadata": {},
   "outputs": [],
   "source": [
    "# 객체 생성 및 표준화\n",
    "scaler = StandardScaler()\n",
    "df[scaler_1] = scaler.fit_transform(df[scaler_1])"
   ]
  },
  {
   "cell_type": "code",
   "execution_count": 27,
   "id": "4c07ee98",
   "metadata": {},
   "outputs": [
    {
     "name": "stdout",
     "output_type": "stream",
     "text": [
      "   fixed acidity  volatile acidity  citric acid  residual sugar  chlorides\n",
      "0      -0.528360          0.961877    -1.391472       -0.453218  -0.243707\n",
      "1      -0.298547          1.967442    -1.391472        0.043416   0.223875\n",
      "2      -0.298547          1.297065    -1.186070       -0.169427   0.096353\n",
      "3       1.654856         -1.384443     1.484154       -0.453218  -0.264960\n",
      "4      -0.528360          0.961877    -1.391472       -0.453218  -0.243707\n"
     ]
    }
   ],
   "source": [
    "# 결과 출력\n",
    "print(df[scaler_1].head())"
   ]
  }
 ],
 "metadata": {
  "kernelspec": {
   "display_name": ".venv",
   "language": "python",
   "name": "python3"
  },
  "language_info": {
   "codemirror_mode": {
    "name": "ipython",
    "version": 3
   },
   "file_extension": ".py",
   "mimetype": "text/x-python",
   "name": "python",
   "nbconvert_exporter": "python",
   "pygments_lexer": "ipython3",
   "version": "3.13.4"
  }
 },
 "nbformat": 4,
 "nbformat_minor": 5
}
